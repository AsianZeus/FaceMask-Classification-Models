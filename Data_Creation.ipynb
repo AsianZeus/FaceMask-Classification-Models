{
 "cells": [
  {
   "cell_type": "markdown",
   "metadata": {},
   "source": [
    "# Data Creation\n",
    "\n",
    "---"
   ]
  },
  {
   "cell_type": "markdown",
   "metadata": {},
   "source": [
    "### Managing AFDB Data"
   ]
  },
  {
   "cell_type": "code",
   "execution_count": null,
   "metadata": {},
   "outputs": [],
   "source": [
    "import os\n",
    "face_dest_arr = []\n",
    "mask_dest_arr = []\n",
    "path = \"/AFDB_face_dataset\"\n",
    "for i in os.listdir(path):\n",
    "    if i==\".DS_Store\":\n",
    "            continue\n",
    "    for x in os.listdir(path+\"/\"+i):\n",
    "        if x==\".DS_Store\":\n",
    "            continue\n",
    "        face_dest_arr.append(path+\"/\"+i+\"/\"+x)\n",
    "\n",
    "path = \"/AFDB_masked_face_dataset\"\n",
    "for i in os.listdir(path):\n",
    "    if i==\".DS_Store\":\n",
    "            continue\n",
    "    for x in os.listdir(path+\"/\"+i):\n",
    "        if x==\".DS_Store\":\n",
    "            continue\n",
    "        mask_dest_arr.append(path+\"/\"+i+\"/\"+x)\n",
    "group_mask = []\n",
    "path = \"single2-0\"\n",
    "for i in os.listdir(path):\n",
    "    if i==\".DS_Store\":\n",
    "            continue\n",
    "    group_mask.append(path+\"/\"+i)\n",
    "rwmfd_mask= []\n",
    "path = \"RWMFD_part_2_pro\"\n",
    "for i in os.listdir(path):\n",
    "    if i==\".DS_Store\":\n",
    "            continue\n",
    "    for x in os.listdir(path+\"/\"+i):\n",
    "        if x==\".DS_Store\":\n",
    "            continue\n",
    "        rwmfd_mask.append(path+\"/\"+i+\"/\"+x)\n",
    "len(mask_dest_arr),len(face_dest_arr),len(rwmfd_mask),len(group_mask)"
   ]
  },
  {
   "cell_type": "markdown",
   "metadata": {},
   "source": [
    "### Converting MaskPascalVOC Annotated Images to Face Images"
   ]
  },
  {
   "cell_type": "code",
   "execution_count": null,
   "metadata": {},
   "outputs": [],
   "source": [
    "import xml.etree.ElementTree as ET\n",
    "filenames = []\n",
    "labels = []\n",
    "ymins = []\n",
    "ymaxs = []\n",
    "xmins = []\n",
    "xmaxs = []\n",
    "\n",
    "xml_path = \"archive/annotations/\"\n",
    "images_path = \"archive/images/\"\n",
    "for i in os.listdir(xml_path):\n",
    "    if i==\".DS_Store\":\n",
    "            continue\n",
    "    tree = ET.parse(xml_path+i)\n",
    "    root = tree.getroot()\n",
    "    filename = root.find('filename').text\n",
    "    for item in root.findall('./object'):\n",
    "        label = item.find('name').text\n",
    "        bndbox = item.find('bndbox')\n",
    "        xmin = bndbox.find('xmin').text\n",
    "        ymin = bndbox.find('ymin').text\n",
    "        xmax = bndbox.find('xmax').text\n",
    "        ymax = bndbox.find('ymax').text\n",
    "        filenames.append(images_path+filename)\n",
    "        labels.append(label)\n",
    "        ymins.append(ymin)\n",
    "        ymaxs.append(ymax)\n",
    "        xmins.append(xmin)\n",
    "        xmaxs.append(xmax)\n",
    "\n",
    "import pandas as pd\n",
    "df = pd.DataFrame({'filename':filenames,'label':labels,'ymin':ymins,'ymax':ymaxs,'xmin':xmins,'xmax':xmaxs})\n",
    "\n",
    "import tqdm\n",
    "import cv2\n",
    "for i in tqdm.tqdm(range(len(df))):\n",
    "    obj = df.iloc[i]\n",
    "    im = cv2.imread(obj.filename)\n",
    "    face = im[int(obj.ymin):int(obj.ymax),int(obj.xmin):int(obj.xmax)]\n",
    "    cv2.imwrite(obj.label+\"/\"+str(i).zfill(5)+\".jpg\",face)\n"
   ]
  },
  {
   "cell_type": "markdown",
   "metadata": {},
   "source": [
    "# Data Pre-Processing\n",
    "\n",
    "---"
   ]
  },
  {
   "cell_type": "markdown",
   "metadata": {},
   "source": [
    "### Extracting Faces from Images"
   ]
  },
  {
   "cell_type": "code",
   "execution_count": null,
   "metadata": {},
   "outputs": [],
   "source": [
    "from retinaface import RetinaFace\n",
    "\n",
    "def write_faces(image_path,image_count,prefix):\n",
    "    image = cv2.imread(image_path)\n",
    "    face_count=0\n",
    "    try:\n",
    "        obj = RetinaFace.detect_faces(image_path)\n",
    "        for key in obj:\n",
    "            try:\n",
    "                face_count+=1\n",
    "                identity = obj[key]\n",
    "                facial_area = identity[\"facial_area\"]\n",
    "                face = image[facial_area[1]: facial_area[3], facial_area[0]: facial_area[2]]\n",
    "                cv2.imwrite(\"FACE-MASK/\"+prefix+str(image_count).zfill(3)+\"_\"+str(face_count).zfill(3)+\".jpg\",face)\n",
    "            except:\n",
    "                pass\n",
    "    except:\n",
    "        pass\n",
    "\n",
    "for image_count, image_path in enumerate(tqdm.tqdm(group_mask)):\n",
    "    write_faces(image_path,image_count=image_count, prefix=\"group\")\n",
    "\n",
    "for image_count, image_path in enumerate(tqdm.tqdm(rwmfd_mask)):\n",
    "    write_faces(image_path,image_count=image_count, prefix=\"rwmfd\")"
   ]
  },
  {
   "cell_type": "code",
   "execution_count": null,
   "metadata": {},
   "outputs": [],
   "source": [
    "w_masked_images= []\n",
    "w_masked_labels = []\n",
    "masked_images= []\n",
    "masked_labels = []\n",
    "images= []\n",
    "labels = []\n",
    "with_mask = [ \"with_mask\"+\"/\"+i for i in os.listdir(\"with_mask\") if not i.endswith(\".DS_Store\")]\n",
    "without_mask = [ \"without_mask\"+\"/\"+i for i in os.listdir(\"without_mask\") if not i.endswith(\".DS_Store\")]\n",
    "masked_face = [ \"FACE-MASK\"+\"/\"+i for i in os.listdir(\"FACE-MASK\") if not i.endswith(\".DS_Store\")]"
   ]
  },
  {
   "cell_type": "markdown",
   "metadata": {},
   "source": [
    "### Merging all the Dataset"
   ]
  },
  {
   "cell_type": "code",
   "execution_count": null,
   "metadata": {},
   "outputs": [],
   "source": [
    "w_masked_images.extend(face_dest_arr)\n",
    "w_masked_images.extend(without_mask)\n",
    "\n",
    "masked_images.extend(mask_dest_arr)\n",
    "masked_images.extend(masked_face)\n",
    "masked_images.extend(with_mask)\n",
    "\n",
    "w_masked_labels.extend([0]*len(face_dest_arr))\n",
    "w_masked_labels.extend([0]*len(without_mask))\n",
    "\n",
    "masked_labels.extend([1]*len(mask_dest_arr))\n",
    "masked_labels.extend([1]*len(masked_face))\n",
    "masked_labels.extend([1]*len(with_mask))\n",
    "\n",
    "len(w_masked_images),len(masked_images),len(w_masked_labels),len(masked_labels)"
   ]
  },
  {
   "cell_type": "markdown",
   "metadata": {},
   "source": [
    "#### Handling the Imbalanced Dataset"
   ]
  },
  {
   "cell_type": "code",
   "execution_count": null,
   "metadata": {},
   "outputs": [],
   "source": [
    "import random\n",
    "index = random.sample(range(len(w_masked_images)), len(masked_images))\n",
    "w_masked_images = [w_masked_images[i] for i in index]\n",
    "w_masked_labels = [w_masked_labels[i] for i in index]\n",
    "\n",
    "len(w_masked_images),len(masked_images),len(w_masked_labels),len(masked_labels)"
   ]
  },
  {
   "cell_type": "code",
   "execution_count": null,
   "metadata": {},
   "outputs": [],
   "source": [
    "images.extend(w_masked_images)\n",
    "images.extend(masked_images)\n",
    "labels.extend(w_masked_labels)\n",
    "labels.extend(masked_labels)"
   ]
  },
  {
   "cell_type": "code",
   "execution_count": null,
   "metadata": {},
   "outputs": [],
   "source": [
    "import pandas as pd\n",
    "df = pd.DataFrame({\"image_path\":images,\"labels\":labels})\n",
    "df.to_csv(\"dataset.csv\",index=False)"
   ]
  },
  {
   "cell_type": "markdown",
   "metadata": {},
   "source": [
    "### Writing the dataset images to a singular location"
   ]
  },
  {
   "cell_type": "code",
   "execution_count": null,
   "metadata": {},
   "outputs": [],
   "source": [
    "import cv2\n",
    "for i in range(len(df)):\n",
    "    img = cv2.imread(df.image_path[i])\n",
    "    if(df.labels[i]):\n",
    "        cv2.imwrite(\"Mask-Dataset/Mask/\"+str(i)+\".jpg\",img)\n",
    "    else:\n",
    "        cv2.imwrite(\"Mask-Dataset/No_Mask/\"+str(i)+\".jpg\",img)"
   ]
  },
  {
   "cell_type": "markdown",
   "metadata": {},
   "source": [
    "### Creating Dataset.csv"
   ]
  },
  {
   "cell_type": "code",
   "execution_count": null,
   "metadata": {},
   "outputs": [],
   "source": [
    "mask_d = [ \"Mask-Dataset/Mask\"+\"/\"+i for i in os.listdir(\"Mask-Dataset/Mask\") if not i.endswith(\".DS_Store\")]\n",
    "no_mask_d = [ \"Mask-Dataset/No_Mask\"+\"/\"+i for i in os.listdir(\"Mask-Dataset/No_Mask\") if not i.endswith(\".DS_Store\")]\n",
    "\n",
    "images = []\n",
    "images.extend(mask_d)\n",
    "images.extend(no_mask_d)\n",
    "labels = []\n",
    "labels.extend([1]*len(mask_d))\n",
    "labels.extend([0]*len(no_mask_d))\n",
    "\n",
    "print(len(images),len(labels))\n",
    "\n",
    "import pandas as pd\n",
    "df = pd.DataFrame({\"image_path\":images,\"labels\":labels})\n",
    "df.to_csv(\"dataset.csv\",index=False)"
   ]
  },
  {
   "cell_type": "markdown",
   "metadata": {},
   "source": [
    "### Splitting Train and Test Files"
   ]
  },
  {
   "cell_type": "code",
   "execution_count": null,
   "metadata": {},
   "outputs": [],
   "source": [
    "import numpy as np\n",
    "msk = np.random.rand(len(df)) < 0.8\n",
    "ds = df.sample(frac=1)\n",
    "train = ds[msk]\n",
    "test = ds[~msk]\n",
    "\n",
    "train.to_csv(\"train.csv\",index=False)\n",
    "test.to_csv(\"test.csv\",index=False)"
   ]
  }
 ],
 "metadata": {
  "language_info": {
   "name": "python"
  },
  "orig_nbformat": 4
 },
 "nbformat": 4,
 "nbformat_minor": 2
}
